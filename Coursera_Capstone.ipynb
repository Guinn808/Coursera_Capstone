{
    "cells": [
        {
            "metadata": {
                "collapsed": true
            },
            "cell_type": "markdown",
            "source": " # Project: Accident data of Seattle city"
        },
        {
            "metadata": {},
            "cell_type": "markdown",
            "source": "## Introduction\nAccident data of Seattle city is considered for this project, where labeled data is already available and used for further analysis.\n\nThe attributes of the data set show different influence factors on accident probability, which will by analyzed in order to solve the problem to reduce the rate of accidents for the future. Furthermore, causes and circumstances that lead to larger accident probabilities are addressed as there are high correlations on different attributes observable. \n\nUsing the outcome of the project, improvements on traffic factors may be done and additional caution may be given to dangerous situation or traffic constellations."
        },
        {
            "metadata": {},
            "cell_type": "markdown",
            "source": "## Data\nThe labeled data in the first column describes the severity of the accidents, where different attributes are found on the remaining columns of the data set.\n\n### Data Set Basics \n- Title: \tCollisions - All Years \n- Abstract: \tAll collisions provided by SPD and recorded by Traffic Records. \n- Description:  \tThis includes all types of collisions. Collisions will display at the intersection or mid-block of a segment. Timeframe: 2004 to Present. \n\n|Attribute  | Data type, length  | Description |\n| :----- | :----- | :----- |\n|OBJECTID | ObjectID | ESRI unique identifier|\n|SHAPE | Geometry | ESRI geometry field|\n|INCKEY | Long | A unique key for the incident|\n|COLDETKEY | Long | Secondary key for the incident|\n|ADDRTYPE | Text, 12 | Collision address type: Alley, Block, Intersection|\n|NTKEY | Double | Key that corresponds to the intersection associated with a collision|\n|LOCATION | Text, 255 | Description of the general location of the collision|\n|EXCEPTRSNCODE | Text, 10 |  |\n|EXCEPTRSNDESC | Text, 300 |  |\n|SEVERITYCODE | Text, 100 | A code that corresponds to the severity of the collision: 3\u2014fatality, 2b\u2014serious injury, 2\u2014injury, 1\u2014prop damage, 0\u2014unknown|\n|SEVERITYDESC | Text | A detailed description of the severity of the collision|\n|COLLISIONTYPE | Text, 300 | Collision type|\n|PERSONCOUNT | Double | The total number of people involved in the collision|\n|PEDCOUNT | Double | The number of pedestrians involved in the collision. This is entered by the state.|\n|PEDCYLCOUNT | Double | The number of bicycles involved in the collision. This is entered by the state.|\n|VEHCOUNT | Double | The number of vehicles involved in the collision. This is entered by the state.|\n|INJURIES | Double | The number of total injuries in the collision. This is entered by the state.|\n|SERIOUSINJURIES | Double | The number of serious injuries in the collision. This is entered by the state.|\n|FATALITIES | Double | The number of fatalities in the collision. This is entered by the state.|\n|INCDATE | Date | The date of the incident.|\n|INCDTTM | Text, 30 | The date and time of the incident.|\n|JUNCTIONTYPE | Text, 300 | Category of junction at which collision took place|\n|SDOT_COLCODE | Text, 10 | A code given to the collision by SDOT.|\n|SDOT_COLDESC | Text, 300 | A description of the collision corresponding to the collision code.|\n|INATTENTIONIND | Text, 1 | Whether or not collision was due to inattention. (Y/N)|\n|UNDERINFL | Text, 10 | Whether or not a driver involved was under the influence of drugs or alcohol.|\n|WEATHER | Text, 300 | A description of the weather conditions during the time of the collision.|\n|ROADCOND | Text, 300 | The condition of the road during the collision.|\n|LIGHTCOND | Text, 300 | The light conditions during the collision.|\n|PEDROWNOTGRNT | Text, 1 | Whether or not the pedestrian right of way was not granted. (Y/N)|\n|SDOTCOLNUM | Text, 10 | A number given to the collision by SDOT.|\n|SPEEDING | Text, 1 | Whether or not speeding was a factor in the collision. (Y/N)|\n|ST_COLCODE | Text, 10 | A code provided by the state that describes the collision. For more information about these codes, please see the State Collision Code Dictionary.|\n|ST_COLDESC | Text, 300 | A description that corresponds to the state\u2019s coding designation.|\n|SEGLANEKEY | Long | A key for the lane segment in which the collision occurred.|\n|CROSSWALKKEY | Long | A key for the crosswalk at which the collision occurred.|\n|HITPARKEDCAR | Text, 1 | Whether or not the collision involved hitting a parked car. (Y/N)|\n"
        },
        {
            "metadata": {},
            "cell_type": "markdown",
            "source": "## Repository\n- Link to Github repository: https://github.com/Guinn808/Coursera_Capstone  \n- Notebook: https://github.com/Guinn808/Coursera_Capstone/blob/master/Coursera_Capstone.ipynb\n- Data: https://github.com/Guinn808/Coursera_Capstone/blob/master/Data-Collisions.rar\n- Metadata: https://github.com/Guinn808/Coursera_Capstone/blob/master/Metadata.pdf"
        }
    ],
    "metadata": {
        "kernelspec": {
            "name": "python3",
            "display_name": "Python 3.6",
            "language": "python"
        },
        "language_info": {
            "name": "python",
            "version": "3.6.9",
            "mimetype": "text/x-python",
            "codemirror_mode": {
                "name": "ipython",
                "version": 3
            },
            "pygments_lexer": "ipython3",
            "nbconvert_exporter": "python",
            "file_extension": ".py"
        }
    },
    "nbformat": 4,
    "nbformat_minor": 1
}